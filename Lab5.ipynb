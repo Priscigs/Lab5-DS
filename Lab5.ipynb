{
 "cells": [
  {
   "cell_type": "markdown",
   "metadata": {},
   "source": [
    "# Laboratorio 5 - Autocodificadores "
   ]
  },
  {
   "cell_type": "code",
   "execution_count": 175,
   "metadata": {},
   "outputs": [],
   "source": [
    "import pandas as pd\n",
    "import numpy as np\n",
    "import matplotlib.pyplot as plt\n",
    "from tensorflow.keras.models import Sequential\n",
    "from tensorflow.keras.layers import Dense,Flatten,Reshape\n",
    "# from tensorflow.keras.optimizers import SGD\n",
    "from tensorflow.keras.optimizers.legacy import SGD #para uso con procesadores M! y M2"
   ]
  },
  {
   "cell_type": "code",
   "execution_count": 176,
   "metadata": {},
   "outputs": [
    {
     "data": {
      "text/html": [
       "<div>\n",
       "<style scoped>\n",
       "    .dataframe tbody tr th:only-of-type {\n",
       "        vertical-align: middle;\n",
       "    }\n",
       "\n",
       "    .dataframe tbody tr th {\n",
       "        vertical-align: top;\n",
       "    }\n",
       "\n",
       "    .dataframe thead th {\n",
       "        text-align: right;\n",
       "    }\n",
       "</style>\n",
       "<table border=\"1\" class=\"dataframe\">\n",
       "  <thead>\n",
       "    <tr style=\"text-align: right;\">\n",
       "      <th></th>\n",
       "      <th>Food</th>\n",
       "      <th>England</th>\n",
       "      <th>Wales</th>\n",
       "      <th>Scotland</th>\n",
       "      <th>N.Ireland</th>\n",
       "    </tr>\n",
       "  </thead>\n",
       "  <tbody>\n",
       "    <tr>\n",
       "      <th>0</th>\n",
       "      <td>Cheese</td>\n",
       "      <td>105</td>\n",
       "      <td>103</td>\n",
       "      <td>103</td>\n",
       "      <td>66</td>\n",
       "    </tr>\n",
       "    <tr>\n",
       "      <th>1</th>\n",
       "      <td>Carcass_meat</td>\n",
       "      <td>245</td>\n",
       "      <td>227</td>\n",
       "      <td>242</td>\n",
       "      <td>267</td>\n",
       "    </tr>\n",
       "    <tr>\n",
       "      <th>2</th>\n",
       "      <td>Other_meat</td>\n",
       "      <td>685</td>\n",
       "      <td>803</td>\n",
       "      <td>750</td>\n",
       "      <td>586</td>\n",
       "    </tr>\n",
       "    <tr>\n",
       "      <th>3</th>\n",
       "      <td>Fish</td>\n",
       "      <td>147</td>\n",
       "      <td>160</td>\n",
       "      <td>122</td>\n",
       "      <td>93</td>\n",
       "    </tr>\n",
       "    <tr>\n",
       "      <th>4</th>\n",
       "      <td>Fats_and_oils</td>\n",
       "      <td>193</td>\n",
       "      <td>235</td>\n",
       "      <td>184</td>\n",
       "      <td>209</td>\n",
       "    </tr>\n",
       "    <tr>\n",
       "      <th>5</th>\n",
       "      <td>Sugars</td>\n",
       "      <td>156</td>\n",
       "      <td>175</td>\n",
       "      <td>147</td>\n",
       "      <td>139</td>\n",
       "    </tr>\n",
       "    <tr>\n",
       "      <th>6</th>\n",
       "      <td>Fresh_potatoes</td>\n",
       "      <td>720</td>\n",
       "      <td>874</td>\n",
       "      <td>566</td>\n",
       "      <td>1033</td>\n",
       "    </tr>\n",
       "    <tr>\n",
       "      <th>7</th>\n",
       "      <td>Fresh_Veg</td>\n",
       "      <td>253</td>\n",
       "      <td>265</td>\n",
       "      <td>171</td>\n",
       "      <td>143</td>\n",
       "    </tr>\n",
       "    <tr>\n",
       "      <th>8</th>\n",
       "      <td>Other_Veg</td>\n",
       "      <td>488</td>\n",
       "      <td>570</td>\n",
       "      <td>418</td>\n",
       "      <td>355</td>\n",
       "    </tr>\n",
       "    <tr>\n",
       "      <th>9</th>\n",
       "      <td>Processed_potatoes</td>\n",
       "      <td>198</td>\n",
       "      <td>203</td>\n",
       "      <td>220</td>\n",
       "      <td>187</td>\n",
       "    </tr>\n",
       "    <tr>\n",
       "      <th>10</th>\n",
       "      <td>Processed_Veg</td>\n",
       "      <td>360</td>\n",
       "      <td>365</td>\n",
       "      <td>337</td>\n",
       "      <td>334</td>\n",
       "    </tr>\n",
       "    <tr>\n",
       "      <th>11</th>\n",
       "      <td>Fresh_fruit</td>\n",
       "      <td>1102</td>\n",
       "      <td>1137</td>\n",
       "      <td>957</td>\n",
       "      <td>674</td>\n",
       "    </tr>\n",
       "    <tr>\n",
       "      <th>12</th>\n",
       "      <td>Cereals</td>\n",
       "      <td>1472</td>\n",
       "      <td>1582</td>\n",
       "      <td>1462</td>\n",
       "      <td>1494</td>\n",
       "    </tr>\n",
       "    <tr>\n",
       "      <th>13</th>\n",
       "      <td>Beverages</td>\n",
       "      <td>57</td>\n",
       "      <td>73</td>\n",
       "      <td>53</td>\n",
       "      <td>47</td>\n",
       "    </tr>\n",
       "    <tr>\n",
       "      <th>14</th>\n",
       "      <td>Soft_drinks</td>\n",
       "      <td>1374</td>\n",
       "      <td>1256</td>\n",
       "      <td>1572</td>\n",
       "      <td>1506</td>\n",
       "    </tr>\n",
       "    <tr>\n",
       "      <th>15</th>\n",
       "      <td>Alcoholic_drinks</td>\n",
       "      <td>375</td>\n",
       "      <td>475</td>\n",
       "      <td>458</td>\n",
       "      <td>135</td>\n",
       "    </tr>\n",
       "    <tr>\n",
       "      <th>16</th>\n",
       "      <td>Confectionery</td>\n",
       "      <td>54</td>\n",
       "      <td>64</td>\n",
       "      <td>62</td>\n",
       "      <td>41</td>\n",
       "    </tr>\n",
       "  </tbody>\n",
       "</table>\n",
       "</div>"
      ],
      "text/plain": [
       "                   Food  England  Wales  Scotland  N.Ireland\n",
       "0                Cheese      105    103       103         66\n",
       "1         Carcass_meat       245    227       242        267\n",
       "2           Other_meat       685    803       750        586\n",
       "3                  Fish      147    160       122         93\n",
       "4        Fats_and_oils       193    235       184        209\n",
       "5                Sugars      156    175       147        139\n",
       "6       Fresh_potatoes       720    874       566       1033\n",
       "7            Fresh_Veg       253    265       171        143\n",
       "8            Other_Veg       488    570       418        355\n",
       "9   Processed_potatoes       198    203       220        187\n",
       "10       Processed_Veg       360    365       337        334\n",
       "11         Fresh_fruit      1102   1137       957        674\n",
       "12             Cereals      1472   1582      1462       1494\n",
       "13            Beverages       57     73        53         47\n",
       "14         Soft_drinks      1374   1256      1572       1506\n",
       "15    Alcoholic_drinks       375    475       458        135\n",
       "16       Confectionery        54     64        62         41"
      ]
     },
     "execution_count": 176,
     "metadata": {},
     "output_type": "execute_result"
    }
   ],
   "source": [
    "df = pd.read_csv('UK_foods.csv', encoding='UTF-8')\n",
    "df"
   ]
  },
  {
   "cell_type": "markdown",
   "metadata": {},
   "source": [
    "Estadísticas descriptivas"
   ]
  },
  {
   "cell_type": "code",
   "execution_count": 177,
   "metadata": {},
   "outputs": [
    {
     "data": {
      "text/html": [
       "<div>\n",
       "<style scoped>\n",
       "    .dataframe tbody tr th:only-of-type {\n",
       "        vertical-align: middle;\n",
       "    }\n",
       "\n",
       "    .dataframe tbody tr th {\n",
       "        vertical-align: top;\n",
       "    }\n",
       "\n",
       "    .dataframe thead th {\n",
       "        text-align: right;\n",
       "    }\n",
       "</style>\n",
       "<table border=\"1\" class=\"dataframe\">\n",
       "  <thead>\n",
       "    <tr style=\"text-align: right;\">\n",
       "      <th></th>\n",
       "      <th>England</th>\n",
       "      <th>Wales</th>\n",
       "      <th>Scotland</th>\n",
       "      <th>N.Ireland</th>\n",
       "    </tr>\n",
       "  </thead>\n",
       "  <tbody>\n",
       "    <tr>\n",
       "      <th>count</th>\n",
       "      <td>17.000000</td>\n",
       "      <td>17.000000</td>\n",
       "      <td>17.000000</td>\n",
       "      <td>17.000000</td>\n",
       "    </tr>\n",
       "    <tr>\n",
       "      <th>mean</th>\n",
       "      <td>469.647059</td>\n",
       "      <td>503.941176</td>\n",
       "      <td>460.235294</td>\n",
       "      <td>429.941176</td>\n",
       "    </tr>\n",
       "    <tr>\n",
       "      <th>std</th>\n",
       "      <td>452.701466</td>\n",
       "      <td>463.859282</td>\n",
       "      <td>469.595907</td>\n",
       "      <td>479.896014</td>\n",
       "    </tr>\n",
       "    <tr>\n",
       "      <th>min</th>\n",
       "      <td>54.000000</td>\n",
       "      <td>64.000000</td>\n",
       "      <td>53.000000</td>\n",
       "      <td>41.000000</td>\n",
       "    </tr>\n",
       "    <tr>\n",
       "      <th>25%</th>\n",
       "      <td>156.000000</td>\n",
       "      <td>175.000000</td>\n",
       "      <td>147.000000</td>\n",
       "      <td>135.000000</td>\n",
       "    </tr>\n",
       "    <tr>\n",
       "      <th>50%</th>\n",
       "      <td>253.000000</td>\n",
       "      <td>265.000000</td>\n",
       "      <td>242.000000</td>\n",
       "      <td>209.000000</td>\n",
       "    </tr>\n",
       "    <tr>\n",
       "      <th>75%</th>\n",
       "      <td>685.000000</td>\n",
       "      <td>803.000000</td>\n",
       "      <td>566.000000</td>\n",
       "      <td>586.000000</td>\n",
       "    </tr>\n",
       "    <tr>\n",
       "      <th>max</th>\n",
       "      <td>1472.000000</td>\n",
       "      <td>1582.000000</td>\n",
       "      <td>1572.000000</td>\n",
       "      <td>1506.000000</td>\n",
       "    </tr>\n",
       "  </tbody>\n",
       "</table>\n",
       "</div>"
      ],
      "text/plain": [
       "           England        Wales     Scotland    N.Ireland\n",
       "count    17.000000    17.000000    17.000000    17.000000\n",
       "mean    469.647059   503.941176   460.235294   429.941176\n",
       "std     452.701466   463.859282   469.595907   479.896014\n",
       "min      54.000000    64.000000    53.000000    41.000000\n",
       "25%     156.000000   175.000000   147.000000   135.000000\n",
       "50%     253.000000   265.000000   242.000000   209.000000\n",
       "75%     685.000000   803.000000   566.000000   586.000000\n",
       "max    1472.000000  1582.000000  1572.000000  1506.000000"
      ]
     },
     "execution_count": 177,
     "metadata": {},
     "output_type": "execute_result"
    }
   ],
   "source": [
    "df.describe()"
   ]
  },
  {
   "cell_type": "code",
   "execution_count": 178,
   "metadata": {},
   "outputs": [
    {
     "data": {
      "text/plain": [
       "Text(0, 0.5, 'Consumption (grams)')"
      ]
     },
     "execution_count": 178,
     "metadata": {},
     "output_type": "execute_result"
    },
    {
     "data": {
      "image/png": "[encoded data removed]",
      "text/plain": [
       "<Figure size 1500x700 with 1 Axes>"
      ]
     },
     "metadata": {},
     "output_type": "display_data"
    }
   ],
   "source": [
    "ax = df.plot(kind='bar', figsize=(15,7))\n",
    "plt.title('Food consumption in different countries of the UK')\n",
    "plt.xlabel('Food')\n",
    "plt.ylabel('Consumption (grams)')\n",
    "\n"
   ]
  },
  {
   "cell_type": "code",
   "execution_count": 293,
   "metadata": {},
   "outputs": [],
   "source": [
    "from tensorflow.keras.optimizers import SGD\n",
    "from sklearn.preprocessing import LabelEncoder, MinMaxScaler\n"
   ]
  },
  {
   "cell_type": "code",
   "execution_count": 294,
   "metadata": {},
   "outputs": [
    {
     "data": {
      "text/html": [
       "<div>\n",
       "<style scoped>\n",
       "    .dataframe tbody tr th:only-of-type {\n",
       "        vertical-align: middle;\n",
       "    }\n",
       "\n",
       "    .dataframe tbody tr th {\n",
       "        vertical-align: top;\n",
       "    }\n",
       "\n",
       "    .dataframe thead th {\n",
       "        text-align: right;\n",
       "    }\n",
       "</style>\n",
       "<table border=\"1\" class=\"dataframe\">\n",
       "  <thead>\n",
       "    <tr style=\"text-align: right;\">\n",
       "      <th>Food</th>\n",
       "      <th>Cheese</th>\n",
       "      <th>Carcass_meat</th>\n",
       "      <th>Other_meat</th>\n",
       "      <th>Fish</th>\n",
       "      <th>Fats_and_oils</th>\n",
       "      <th>Sugars</th>\n",
       "      <th>Fresh_potatoes</th>\n",
       "      <th>Fresh_Veg</th>\n",
       "      <th>Other_Veg</th>\n",
       "      <th>Processed_potatoes</th>\n",
       "      <th>Processed_Veg</th>\n",
       "      <th>Fresh_fruit</th>\n",
       "      <th>Cereals</th>\n",
       "      <th>Beverages</th>\n",
       "      <th>Soft_drinks</th>\n",
       "      <th>Alcoholic_drinks</th>\n",
       "      <th>Confectionery</th>\n",
       "    </tr>\n",
       "  </thead>\n",
       "  <tbody>\n",
       "    <tr>\n",
       "      <th>0</th>\n",
       "      <td>0.035966</td>\n",
       "      <td>0.134697</td>\n",
       "      <td>0.444993</td>\n",
       "      <td>0.065585</td>\n",
       "      <td>0.098025</td>\n",
       "      <td>0.071932</td>\n",
       "      <td>0.469676</td>\n",
       "      <td>0.140339</td>\n",
       "      <td>0.306065</td>\n",
       "      <td>0.101551</td>\n",
       "      <td>0.215797</td>\n",
       "      <td>0.739069</td>\n",
       "      <td>1.000000</td>\n",
       "      <td>0.002116</td>\n",
       "      <td>0.930889</td>\n",
       "      <td>0.226375</td>\n",
       "      <td>0.000000</td>\n",
       "    </tr>\n",
       "    <tr>\n",
       "      <th>1</th>\n",
       "      <td>0.025692</td>\n",
       "      <td>0.107378</td>\n",
       "      <td>0.486825</td>\n",
       "      <td>0.063241</td>\n",
       "      <td>0.112648</td>\n",
       "      <td>0.073123</td>\n",
       "      <td>0.533597</td>\n",
       "      <td>0.132411</td>\n",
       "      <td>0.333333</td>\n",
       "      <td>0.091568</td>\n",
       "      <td>0.198287</td>\n",
       "      <td>0.706851</td>\n",
       "      <td>1.000000</td>\n",
       "      <td>0.005929</td>\n",
       "      <td>0.785244</td>\n",
       "      <td>0.270751</td>\n",
       "      <td>0.000000</td>\n",
       "    </tr>\n",
       "    <tr>\n",
       "      <th>2</th>\n",
       "      <td>0.032916</td>\n",
       "      <td>0.124424</td>\n",
       "      <td>0.458855</td>\n",
       "      <td>0.045425</td>\n",
       "      <td>0.086241</td>\n",
       "      <td>0.061883</td>\n",
       "      <td>0.337722</td>\n",
       "      <td>0.077683</td>\n",
       "      <td>0.240290</td>\n",
       "      <td>0.109941</td>\n",
       "      <td>0.186965</td>\n",
       "      <td>0.595128</td>\n",
       "      <td>0.927584</td>\n",
       "      <td>0.000000</td>\n",
       "      <td>1.000000</td>\n",
       "      <td>0.266623</td>\n",
       "      <td>0.005925</td>\n",
       "    </tr>\n",
       "    <tr>\n",
       "      <th>3</th>\n",
       "      <td>0.017065</td>\n",
       "      <td>0.154266</td>\n",
       "      <td>0.372014</td>\n",
       "      <td>0.035495</td>\n",
       "      <td>0.114676</td>\n",
       "      <td>0.066894</td>\n",
       "      <td>0.677133</td>\n",
       "      <td>0.069625</td>\n",
       "      <td>0.214334</td>\n",
       "      <td>0.099659</td>\n",
       "      <td>0.200000</td>\n",
       "      <td>0.432082</td>\n",
       "      <td>0.991809</td>\n",
       "      <td>0.004096</td>\n",
       "      <td>1.000000</td>\n",
       "      <td>0.064164</td>\n",
       "      <td>0.000000</td>\n",
       "    </tr>\n",
       "  </tbody>\n",
       "</table>\n",
       "</div>"
      ],
      "text/plain": [
       "Food    Cheese  Carcass_meat   Other_meat       Fish  Fats_and_oils   \\\n",
       "0     0.035966       0.134697     0.444993  0.065585        0.098025   \n",
       "1     0.025692       0.107378     0.486825  0.063241        0.112648   \n",
       "2     0.032916       0.124424     0.458855  0.045425        0.086241   \n",
       "3     0.017065       0.154266     0.372014  0.035495        0.114676   \n",
       "\n",
       "Food    Sugars  Fresh_potatoes   Fresh_Veg   Other_Veg   Processed_potatoes   \\\n",
       "0     0.071932         0.469676    0.140339    0.306065             0.101551   \n",
       "1     0.073123         0.533597    0.132411    0.333333             0.091568   \n",
       "2     0.061883         0.337722    0.077683    0.240290             0.109941   \n",
       "3     0.066894         0.677133    0.069625    0.214334             0.099659   \n",
       "\n",
       "Food  Processed_Veg   Fresh_fruit   Cereals   Beverages  Soft_drinks   \\\n",
       "0           0.215797      0.739069  1.000000   0.002116      0.930889   \n",
       "1           0.198287      0.706851  1.000000   0.005929      0.785244   \n",
       "2           0.186965      0.595128  0.927584   0.000000      1.000000   \n",
       "3           0.200000      0.432082  0.991809   0.004096      1.000000   \n",
       "\n",
       "Food  Alcoholic_drinks   Confectionery   \n",
       "0              0.226375        0.000000  \n",
       "1              0.270751        0.000000  \n",
       "2              0.266623        0.005925  \n",
       "3              0.064164        0.000000  "
      ]
     },
     "execution_count": 294,
     "metadata": {},
     "output_type": "execute_result"
    }
   ],
   "source": [
    "scaler = MinMaxScaler()\n",
    "norm_df = pd.DataFrame(scaler.fit_transform(df[df.columns[1:]]))\n",
    "norm_arr = scaler.fit_transform(df[df.columns[1:]]).T\n",
    "df_t_norm = norm_df.T\n",
    "\n",
    "df_t_norm.columns = df['Food']\n",
    "df_t_norm\n"
   ]
  },
  {
   "cell_type": "code",
   "execution_count": 295,
   "metadata": {},
   "outputs": [
    {
     "data": {
      "text/plain": [
       "array([[0.03596615, 0.13469676, 0.44499295, 0.06558533, 0.09802539,\n",
       "        0.0719323 , 0.4696756 , 0.1403385 , 0.30606488, 0.10155148,\n",
       "        0.2157969 , 0.73906911, 1.        , 0.00211566, 0.93088858,\n",
       "        0.22637518, 0.        ],\n",
       "       [0.0256917 , 0.10737813, 0.48682477, 0.06324111, 0.11264822,\n",
       "        0.07312253, 0.53359684, 0.13241107, 0.33333333, 0.09156785,\n",
       "        0.19828722, 0.70685112, 1.        , 0.00592885, 0.78524374,\n",
       "        0.27075099, 0.        ],\n",
       "       [0.03291639, 0.12442396, 0.45885451, 0.04542462, 0.08624095,\n",
       "        0.06188282, 0.33772219, 0.07768269, 0.24028966, 0.10994075,\n",
       "        0.18696511, 0.59512837, 0.92758394, 0.        , 1.        ,\n",
       "        0.26662278, 0.00592495],\n",
       "       [0.01706485, 0.15426621, 0.37201365, 0.03549488, 0.11467577,\n",
       "        0.0668942 , 0.67713311, 0.06962457, 0.21433447, 0.0996587 ,\n",
       "        0.2       , 0.43208191, 0.99180887, 0.00409556, 1.        ,\n",
       "        0.06416382, 0.        ]])"
      ]
     },
     "execution_count": 295,
     "metadata": {},
     "output_type": "execute_result"
    }
   ],
   "source": [
    "norm_arr"
   ]
  },
  {
   "cell_type": "code",
   "execution_count": 340,
   "metadata": {},
   "outputs": [],
   "source": [
    "codificador = Sequential()\n",
    "codificador.add(Dense(units=10,\n",
    "                      activation='linear',\n",
    "                      input_shape = [17]))\n",
    "codificador.add(Dense(units=5,\n",
    "                        activation='relu'))\n",
    "codificador.add(Dense(units=2,\n",
    "                        activation='relu'))"
   ]
  },
  {
   "cell_type": "code",
   "execution_count": 341,
   "metadata": {},
   "outputs": [],
   "source": [
    "decodificador = Sequential()\n",
    "decodificador.add(Dense(units=5,\n",
    "                        activation='relu',\n",
    "                        input_shape=[2]))\n",
    "decodificador.add(Dense(units=10,\n",
    "                        activation='relu'))\n",
    "decodificador.add(Dense(units=17,\n",
    "                        activation='linear'))"
   ]
  },
  {
   "cell_type": "code",
   "execution_count": 342,
   "metadata": {},
   "outputs": [],
   "source": [
    "#codificador = Sequential()\n",
    "#codificador.add(Dense(2, activation='relu', input_shape = [17]))\n",
    "#codificador.add(Dense(units=2, activation='relu'))\n",
    "#\n",
    "#decodificador = Sequential()\n",
    "#decodificador.add(Dense(units = 17,\n",
    "#                        activation = 'relu',\n",
    "#                        input_shape = [2]))"
   ]
  },
  {
   "cell_type": "code",
   "execution_count": 343,
   "metadata": {},
   "outputs": [],
   "source": [
    "autocodificador = Sequential([codificador,\n",
    "                              decodificador])"
   ]
  },
  {
   "cell_type": "code",
   "execution_count": 344,
   "metadata": {},
   "outputs": [],
   "source": [
    "autocodificador.compile(loss = \"mse\",\n",
    "                        optimizer = SGD(learning_rate = 1.5), metrics=['Accuracy'])"
   ]
  },
  {
   "cell_type": "code",
   "execution_count": 345,
   "metadata": {},
   "outputs": [
    {
     "name": "stdout",
     "output_type": "stream",
     "text": [
      "Epoch 1/10\n"
     ]
    },
    {
     "name": "stdout",
     "output_type": "stream",
     "text": [
      "1/1 [==============================] - 1s 729ms/step - loss: 0.1718 - Accuracy: 0.0000e+00\n",
      "Epoch 2/10\n",
      "1/1 [==============================] - 0s 9ms/step - loss: 0.1174 - Accuracy: 0.5000\n",
      "Epoch 3/10\n",
      "1/1 [==============================] - 0s 9ms/step - loss: 0.0806 - Accuracy: 0.5000\n",
      "Epoch 4/10\n",
      "1/1 [==============================] - 0s 9ms/step - loss: 0.0556 - Accuracy: 0.5000\n",
      "Epoch 5/10\n",
      "1/1 [==============================] - 0s 9ms/step - loss: 0.0387 - Accuracy: 0.5000\n",
      "Epoch 6/10\n",
      "1/1 [==============================] - 0s 9ms/step - loss: 0.0272 - Accuracy: 0.5000\n",
      "Epoch 7/10\n",
      "1/1 [==============================] - 0s 9ms/step - loss: 0.0194 - Accuracy: 0.5000\n",
      "Epoch 8/10\n",
      "1/1 [==============================] - 0s 9ms/step - loss: 0.0141 - Accuracy: 0.5000\n",
      "Epoch 9/10\n",
      "1/1 [==============================] - 0s 7ms/step - loss: 0.0106 - Accuracy: 0.5000\n",
      "Epoch 10/10\n",
      "1/1 [==============================] - 0s 10ms/step - loss: 0.0081 - Accuracy: 0.5000\n"
     ]
    },
    {
     "data": {
      "text/plain": [
       "<keras.callbacks.History at 0x251eca5e7a0>"
      ]
     },
     "execution_count": 345,
     "metadata": {},
     "output_type": "execute_result"
    }
   ],
   "source": [
    "autocodificador.fit(norm_arr,\n",
    "                    norm_arr,\n",
    "                    epochs = 10)"
   ]
  },
  {
   "cell_type": "code",
   "execution_count": 346,
   "metadata": {},
   "outputs": [
    {
     "name": "stdout",
     "output_type": "stream",
     "text": [
      "1/1 [==============================] - 0s 78ms/step\n"
     ]
    }
   ],
   "source": [
    "codificado_2dim = codificador.predict(norm_arr)"
   ]
  },
  {
   "cell_type": "code",
   "execution_count": 347,
   "metadata": {},
   "outputs": [
    {
     "data": {
      "text/plain": [
       "(4, 2)"
      ]
     },
     "execution_count": 347,
     "metadata": {},
     "output_type": "execute_result"
    }
   ],
   "source": [
    "codificado_2dim.shape"
   ]
  },
  {
   "cell_type": "code",
   "execution_count": 348,
   "metadata": {},
   "outputs": [
    {
     "data": {
      "text/plain": [
       "array([[0., 0.],\n",
       "       [0., 0.],\n",
       "       [0., 0.],\n",
       "       [0., 0.]], dtype=float32)"
      ]
     },
     "execution_count": 348,
     "metadata": {},
     "output_type": "execute_result"
    }
   ],
   "source": [
    "codificado_2dim"
   ]
  }
 ],
 "metadata": {
  "kernelspec": {
   "display_name": "Python 3",
   "language": "python",
   "name": "python3"
  },
  "language_info": {
   "codemirror_mode": {
    "name": "ipython",
    "version": 3
   },
   "file_extension": ".py",
   "mimetype": "text/x-python",
   "name": "python",
   "nbconvert_exporter": "python",
   "pygments_lexer": "ipython3",
   "version": "3.10.0"
  },
  "orig_nbformat": 4
 },
 "nbformat": 4,
 "nbformat_minor": 2
}
